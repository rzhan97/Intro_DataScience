{
 "cells": [
  {
   "cell_type": "code",
   "execution_count": null,
   "metadata": {},
   "outputs": [],
   "source": []
  },
  {
   "cell_type": "code",
   "execution_count": 25,
   "metadata": {},
   "outputs": [],
   "source": [
    "from IPython.display import clear_output\n",
    "from matplotlib import pyplot as plt\n",
    "import collections\n",
    "import numpy as np\n",
    "import pandas as pd\n",
    "from PIL import Image\n",
    "import torch\n",
    "import torchvision\n",
    "from sklearn.metrics import accuracy_score"
   ]
  },
  {
   "cell_type": "markdown",
   "metadata": {},
   "source": [
    "## Image Classification Experiments\n",
    "\n",
    "In this notebook, we're going to explore the use of a few different ways of setting up an image classification model. The images and more details are available here: https://tiny-imagenet.herokuapp.com/. The training set contains 500 images for each of 200 different classes. The validation set contains 50 images for each of the 200 classes.\n",
    "\n",
    "First, we're going to load images from the tiny-imagenet-200 folder into a *flattened* format that is suitable for training any of the scikit-learn classifier models, such as a support vector machine (SVM) or logistic regression.\n",
    "\n",
    "Later, we'll take advantage of data loading functions included in PyTorch that will preserve the 2D-shape of images and load *batches* instead of the entire training or validation set all at once.\n"
   ]
  },
  {
   "cell_type": "markdown",
   "metadata": {},
   "source": [
    "## Helper and Data Loading Functions"
   ]
  },
  {
   "cell_type": "code",
   "execution_count": 26,
   "metadata": {},
   "outputs": [],
   "source": [
    "%matplotlib inline\n",
    "%run Helpers.py"
   ]
  },
  {
   "cell_type": "code",
   "execution_count": 27,
   "metadata": {},
   "outputs": [
    {
     "name": "stdout",
     "output_type": "stream",
     "text": [
      "Dataset ImageFolder\n",
      "    Number of datapoints: 100000\n",
      "    Root location: ./tiny-imagenet-200/train/\n",
      "    StandardTransform\n",
      "Transform: ToTensor()\n"
     ]
    }
   ],
   "source": [
    "data_path = './tiny-imagenet-200/train/'\n",
    "train_dataset = torchvision.datasets.ImageFolder(\n",
    "        root=data_path,\n",
    "        transform=torchvision.transforms.ToTensor()\n",
    "    )\n",
    "print(train_dataset)"
   ]
  },
  {
   "cell_type": "code",
   "execution_count": 28,
   "metadata": {},
   "outputs": [],
   "source": [
    "def load_train_dataset():\n",
    "    data_path = './tiny-imagenet-200/train/'\n",
    "    train_dataset = torchvision.datasets.ImageFolder(\n",
    "        root=data_path,\n",
    "        transform=torchvision.transforms.ToTensor()\n",
    "    )\n",
    "    train_loader = torch.utils.data.DataLoader(\n",
    "        train_dataset,\n",
    "        batch_size=32,\n",
    "        num_workers=0,\n",
    "        shuffle=True\n",
    "    )\n",
    "    return train_loader, train_dataset.class_to_idx"
   ]
  },
  {
   "cell_type": "code",
   "execution_count": null,
   "metadata": {},
   "outputs": [],
   "source": []
  },
  {
   "cell_type": "code",
   "execution_count": 29,
   "metadata": {},
   "outputs": [],
   "source": [
    "def load_valid_dataset(class_to_idx):\n",
    "    data_path = './tiny-imagenet-200/val/images'\n",
    "    label_file = open('./tiny-imagenet-200/val/val_annotations.txt', 'r')\n",
    "    label_df = pd.read_csv(label_file, delim_whitespace=True, header=None)\n",
    "    label_df[1] = label_df[1].apply(lambda x : class_to_idx[x])\n",
    "    valid_data = []\n",
    "    for row in label_df.iterrows():\n",
    "        image = Image.open(f'{data_path}/{row[1][0]}')\n",
    "        image = torchvision.transforms.functional.to_tensor(image)\n",
    "        label = row[1][1]\n",
    "        valid_data.append((image, label))\n",
    "    return valid_data"
   ]
  },
  {
   "cell_type": "code",
   "execution_count": 30,
   "metadata": {},
   "outputs": [],
   "source": [
    "def load_data_np(batches=100):\n",
    "    # Load a subsample of training data and all of the validation data into a flattened NumPy format.\n",
    "    train_data_np = []\n",
    "    train_labels = []\n",
    "    batch_limit = batches\n",
    "    for index, (data, label) in enumerate(train_dataset):\n",
    "        for i in range(data.shape[0]):\n",
    "            train_data_np.append(data[i].detach().numpy().flatten())\n",
    "            train_labels.append(int(label[i].detach().numpy()))\n",
    "        if index >= batch_limit - 1:\n",
    "            break\n",
    "    train_data_np = np.vstack(train_data_np)\n",
    "    train_labels = np.array(train_labels)\n",
    "\n",
    "    valid_data_np = []\n",
    "    valid_labels = []\n",
    "    for data, label in valid_dataset:\n",
    "        if data.shape[0] < 3:\n",
    "            data = torch.cat([data[0], data[0], data[0]], dim=0)  # Convert grayscale images into RGB format\n",
    "        valid_data_np.append(data.detach().numpy().flatten())\n",
    "        valid_labels.append(int(label))\n",
    "    valid_data_np = np.vstack(valid_data_np)\n",
    "    valid_labels = np.array(valid_labels)\n",
    "    print( train_data_np, train_labels, valid_data_np, valid_labels)"
   ]
  },
  {
   "cell_type": "code",
   "execution_count": 31,
   "metadata": {},
   "outputs": [],
   "source": [
    "train_dataset, class_to_idx = load_train_dataset()\n",
    "valid_dataset = load_valid_dataset(class_to_idx)"
   ]
  },
  {
   "cell_type": "markdown",
   "metadata": {},
   "source": [
    "## Visualize Images and Labels"
   ]
  },
  {
   "cell_type": "code",
   "execution_count": 32,
   "metadata": {},
   "outputs": [],
   "source": [
    "# Write some code that will display an image and class label (optionally a predicted label)\n",
    "# im = Image.open(\"bride.jpg\")\n",
    "# im.rotate(45).show()"
   ]
  },
  {
   "cell_type": "markdown",
   "metadata": {},
   "source": [
    "## Linear Model in PyTorch"
   ]
  },
  {
   "cell_type": "code",
   "execution_count": 33,
   "metadata": {},
   "outputs": [
    {
     "name": "stdout",
     "output_type": "stream",
     "text": [
      "[[0.45490196 0.47058824 0.49411765 ... 0.69803923 0.6509804  0.6039216 ]\n",
      " [0.46666667 0.69803923 0.4745098  ... 0.         0.03921569 0.18431373]\n",
      " [0.50980395 0.56078434 0.6666667  ... 0.78039217 0.73333335 0.7882353 ]\n",
      " ...\n",
      " [0.03921569 0.03137255 0.02352941 ... 0.85882354 0.1882353  0.6431373 ]\n",
      " [0.5568628  0.8        0.8745098  ... 0.41960785 0.44705883 0.43137255]\n",
      " [0.         0.         0.01960784 ... 1.         1.         1.        ]] [ 42 192  31  93 111 185  41  52 154   1  10  29  41 190  75   9  70  41\n",
      "  32  20 143 180  57 131 149 119  43  75 188  27  74  83  15  52 120 136\n",
      "  51 180  25   1 185  94  98  35 138 186 177 139  41 158  91 159  95  23\n",
      " 170  91  61 139  90   4 169  63 132  65 158 189 112  10 116  55 100 152\n",
      "  18  98 111 183 127  41 128 102  64 192  99  56  31  18  63 196 184   5\n",
      "   2 100 156  29  75 143 171  16  26 155 167 101  55 144 192 136 129 108\n",
      " 171 191 148  60 157   2 147  67  67  57  85 162  52  26 133  73 192  93\n",
      "  22 168 144 130  76 125  88  69 196 194  31  36 199  94  61   4  84 184\n",
      " 106  93 149 147 144   2 146 175  75 157 141  82 133  16  66  30  30  50\n",
      " 122 190 101  57  82  99  67  15  50   3 111 181  27  19  94 183 108  15\n",
      "  76  19   7 138   7 111 199 135  97  72 176  42 148  17  19  30 160 107\n",
      " 151  77 197  74 198  25 173 185   5 181  19 197 183 159 189 158 169 196\n",
      "  62   9 186 190  91   0   3  90  35 189  46  71   2 188 194  61 131 175\n",
      "  59  22 174 110  60 142 104  80   6 164 176 143 103 194   5 113  56  85\n",
      "  92  57 185 174  21  15  48  32  28 188  72  86 127 186 139 100  24  89\n",
      "  40  72  82  25  10 100  73   6  71  91  85  65  83  50 192 195 162  39\n",
      " 151  23 133  58   3 157  26  62 154 195  71  15 178  97 114 158 100   2\n",
      "  50   2 175  52 192 152 128  60 156  92  68 180  86  64   3  71 160 177\n",
      " 165 136 101 155  14  43  85  44  31   1  31 173   5 190  15  99 108  95\n",
      " 143 144 107 136  72 183 188  77 116  73  91 138 178 145  93  91 184 174\n",
      " 136 179  82 156 169 173 138  54  26 144  26 150 193 195  95  51  94  63\n",
      "  55  92 144  75 132  99  73   3  31 152 148  29 101  95 136  74   9 187\n",
      "  39 160  70  66 180 181 153  40 105  55 131   4 133 126  84 199 159 104\n",
      " 123 197 184  53 165 134 116  72 180 160  16  85 108  72  14  94  50  55\n",
      "  93 188  93 100  30 190  54   5  39  68 167 179 113 135  96 164  13  27\n",
      " 198 191  83  47 137 166 192 171  68  67 173 152  91  12 160  39  54  38\n",
      "  87  85  42   8  57 161  36 110  76  12  36 178 143 170  34 177 150 112\n",
      " 153  15 141   1  18 156  16  63  32  95 169 155   5   9 117  78  10  80\n",
      "  87 102  56 142 193 120 151   1 113  14 120 194 103 171 169 155 197  97\n",
      " 115  86  47  78 165 186 189  58   3 139 158 127 191 111 100 141 191 135\n",
      " 162  49 127  48  28  18  27 190  52  40  76 134 176 135  56 194 160  63\n",
      "  31  79  89  14 171   3  87 175 132 144  87 175 156  30 118 112  77  74\n",
      "  55  18  61  83 135 122  19 161 146 169  20  23  25  77 178 128 166 159\n",
      "   1  49  59 159 111  77 154 177 185  17  22 109  84  92  69 152  89  90\n",
      "  92  42  80  85 125  42  34 152  23   4 109 123 113  82  42 114  59  50\n",
      " 148 137 131 186 176  99 165 106 111  13] [[0.14901961 0.72156864 0.79607844 ... 0.65882355 0.7058824  0.7019608 ]\n",
      " [0.39215687 0.39607844 0.40784314 ... 0.10980392 0.10980392 0.10196079]\n",
      " [0.8784314  0.8901961  0.9529412  ... 0.85490197 0.85490197 0.85882354]\n",
      " ...\n",
      " [0.         0.         0.         ... 0.         0.         0.        ]\n",
      " [0.24313726 0.18039216 0.19607843 ... 0.8352941  0.7254902  0.39215687]\n",
      " [0.09803922 0.25490198 0.32156864 ... 0.0627451  0.00784314 0.01960784]] [107 139 140 ... 106   1  61]\n"
     ]
    },
    {
     "ename": "TypeError",
     "evalue": "cannot unpack non-iterable NoneType object",
     "output_type": "error",
     "traceback": [
      "\u001b[0;31m---------------------------------------------------------------------------\u001b[0m",
      "\u001b[0;31mTypeError\u001b[0m                                 Traceback (most recent call last)",
      "\u001b[0;32m<ipython-input-33-fc0a5c3e8e14>\u001b[0m in \u001b[0;36m<module>\u001b[0;34m\u001b[0m\n\u001b[1;32m      1\u001b[0m \u001b[0;31m# Load data into 'flattened' NumPy arrays\u001b[0m\u001b[0;34m\u001b[0m\u001b[0;34m\u001b[0m\u001b[0;34m\u001b[0m\u001b[0m\n\u001b[0;32m----> 2\u001b[0;31m \u001b[0mtrain_data_np\u001b[0m\u001b[0;34m,\u001b[0m \u001b[0mtrain_labels\u001b[0m\u001b[0;34m,\u001b[0m \u001b[0mvalid_data_np\u001b[0m\u001b[0;34m,\u001b[0m \u001b[0mvalid_labels\u001b[0m \u001b[0;34m=\u001b[0m \u001b[0mload_data_np\u001b[0m\u001b[0;34m(\u001b[0m\u001b[0mbatches\u001b[0m\u001b[0;34m=\u001b[0m\u001b[0;36m20\u001b[0m\u001b[0;34m)\u001b[0m\u001b[0;34m\u001b[0m\u001b[0;34m\u001b[0m\u001b[0m\n\u001b[0m\u001b[1;32m      3\u001b[0m \u001b[0mprint\u001b[0m\u001b[0;34m(\u001b[0m\u001b[0;34mf\"Training Data Shape: {train_data_np.shape}\"\u001b[0m\u001b[0;34m)\u001b[0m\u001b[0;34m\u001b[0m\u001b[0;34m\u001b[0m\u001b[0m\n\u001b[1;32m      4\u001b[0m \u001b[0mprint\u001b[0m\u001b[0;34m(\u001b[0m\u001b[0;34mf\"Training Labels Shape: {train_labels.shape}\"\u001b[0m\u001b[0;34m)\u001b[0m\u001b[0;34m\u001b[0m\u001b[0;34m\u001b[0m\u001b[0m\n\u001b[1;32m      5\u001b[0m \u001b[0mprint\u001b[0m\u001b[0;34m(\u001b[0m\u001b[0;34mf\"Validation Data Shape: {valid_data_np.shape}\"\u001b[0m\u001b[0;34m)\u001b[0m\u001b[0;34m\u001b[0m\u001b[0;34m\u001b[0m\u001b[0m\n",
      "\u001b[0;31mTypeError\u001b[0m: cannot unpack non-iterable NoneType object"
     ]
    }
   ],
   "source": [
    "# Load data into 'flattened' NumPy arrays\n",
    "train_data_np, train_labels, valid_data_np, valid_labels = load_data_np(batches=20)\n",
    "print(f\"Training Data Shape: {train_data_np.shape}\")\n",
    "print(f\"Training Labels Shape: {train_labels.shape}\")\n",
    "print(f\"Validation Data Shape: {valid_data_np.shape}\")\n",
    "print(f\"Validation Labels Shape: {valid_labels.shape}\")"
   ]
  },
  {
   "cell_type": "code",
   "execution_count": 23,
   "metadata": {},
   "outputs": [],
   "source": [
    "class LinearModel(torch.nn.Module):\n",
    "    \n",
    "    def __init__(self, input_size, num_classes):\n",
    "        \n",
    "        super().__init__()\n",
    "        \n",
    "        # Neural Network Architecture\n",
    "        self.dense1 = torch.nn.Linear(in_features=num_features, out_features=num_classes)\n",
    "        self.activation = torch.nn.LogSigmoid()\n",
    "    \n",
    "    def forward(self, X):\n",
    "        X = self.dense1(X)\n",
    "        X = self.activation(X)\n",
    "        return X"
   ]
  },
  {
   "cell_type": "code",
   "execution_count": 24,
   "metadata": {},
   "outputs": [
    {
     "name": "stdout",
     "output_type": "stream",
     "text": [
      "[[0.69411767 0.68235296 0.7372549  ... 0.12941177 0.1254902  0.10980392]\n",
      " [0.4        0.3882353  0.30588236 ... 0.827451   0.9254902  0.9882353 ]\n",
      " [0.32156864 0.27450982 0.23529412 ... 0.79607844 0.6156863  0.47058824]\n",
      " ...\n",
      " [0.6862745  0.6862745  0.6901961  ... 0.5137255  0.50980395 0.50980395]\n",
      " [0.78431374 0.8        0.79607844 ... 0.7647059  0.827451   0.84705883]\n",
      " [0.03137255 0.09411765 0.13333334 ... 0.08235294 0.08627451 0.09411765]] [147 136   0 142 102  68  60 190   8 191 132 121 115  21  68 175 179 155\n",
      "  29  95   9 119  18 192  25  55  40 148 180   3  19 144  86  56 132  74\n",
      " 146  75 194 199   9   2  23  71 174 187 146  41 113 144  10 116 139  70\n",
      " 102  27 194  48 167  45 126   7  84 161   1  34 177  67  37  85 119 170\n",
      " 153 167 168 141  12 165 110  91  91   1 118 156  89 176  66 150 139 193\n",
      " 170 102  10  19 143 119 192  12  29  10  12 148 198  16 110 167  14 101\n",
      "  47 105 167  62  59 199  76  57 136  48 195  68 130  68  87  63 173  25\n",
      " 137   1 190 100  61 113 199  19  38  22  23 155  54 178  72  69 143 104\n",
      " 126  70  37 188   5 158  77 179  95  70  68 161   6  36  40 132 165  39\n",
      "  19  66  61 181 112   7  29  41  99 183 165 144  85 102 143 142 101  18\n",
      " 178 194  92  80 153  69 185  21 107   3  20 134 150 196  88 196  75  92\n",
      " 160  78 180  40  78 163 162  13  20 123  70  33  75 150  66 156  26 194\n",
      "  78 103  22 103  45 194 193 186 162   9 108  80 184 179  82  51 181  63\n",
      "  52  19  76  50 114 180 190  22   2  93  89 151  93  97 198  29  63 172\n",
      " 122 196  81   6  72  42  19  69 172  15 139 162 116  17 179 125 107  48\n",
      " 171 138 136 122 105 136  81  83 144  78  74 124 132  10 171 151 140 126\n",
      "  13  64  28 160  30  30 180 165 160 183  62  86 147 106  58  73 156 176\n",
      " 140  63  51 126  28  73  91 182 139  27 123 156 150 167  38 192 144  59\n",
      "  32 198 183  31  12  62  94  65  99  96 160 183 198   7  19 120  11 133\n",
      " 184  55 103  32 111 195  17  83  60 168 157 146 103  43  65 172 153  18\n",
      " 146 153  81  50 123 145   3  44 147  81 167 143  65 158 183 145  83 134\n",
      " 107  84  28 104 198  38  56 188  26 120  75 133  72 148 171 144 170  25\n",
      "  96  68  95 181  64 109  43  17  61  66  69 124  85 149 108   0 136 139\n",
      "   1  31 134 133  35  20  35 175 122 109 197  36 142 124 114 189 123  74\n",
      " 148 198  38  40  86 103  26 147 138 130  47  80  26 149  43 107  39  83\n",
      " 138   6  68  21 100 101  84 165  70  94 114  35  55 124 192 176  64 160\n",
      "  21  29  82  99 112  38  22 167 165 129  54 135   1 164  39  19 123  88\n",
      " 195 133 159 165 184 152 127  81  56 133 106 199 158   4  90  60 161  17\n",
      " 179 179 148  51  78 136 173  52 157  38  10  89 198  89  66  36  33 175\n",
      "  35  97 197  70 175 137  77  94   7   5  87   5 107 163 179  52  92 155\n",
      "  99 129 122  61 163 195 124  54  30 188 169  65  92  33 149 136 182 191\n",
      " 177  45 194   2 161 140 159  80 144 140  49 149  29 197  84  47  11  88\n",
      " 111 174 159  15  23 179  75 147  37  20 144  53 101 166 115 186  34  23\n",
      " 103 101 145  69  93  81 119   6 163  55  44 139 171  24 147 174 161   2\n",
      "  87  44  69 195 170  89   3 104  78 132 111  16  79  13 111 167 189  53\n",
      " 146 144  61  58 132   1  94 124 169 156] [[0.14901961 0.72156864 0.79607844 ... 0.65882355 0.7058824  0.7019608 ]\n",
      " [0.39215687 0.39607844 0.40784314 ... 0.10980392 0.10980392 0.10196079]\n",
      " [0.8784314  0.8901961  0.9529412  ... 0.85490197 0.85490197 0.85882354]\n",
      " ...\n",
      " [0.         0.         0.         ... 0.         0.         0.        ]\n",
      " [0.24313726 0.18039216 0.19607843 ... 0.8352941  0.7254902  0.39215687]\n",
      " [0.09803922 0.25490198 0.32156864 ... 0.0627451  0.00784314 0.01960784]] [107 139 140 ... 106   1  61]\n"
     ]
    },
    {
     "ename": "TypeError",
     "evalue": "cannot unpack non-iterable NoneType object",
     "output_type": "error",
     "traceback": [
      "\u001b[0;31m---------------------------------------------------------------------------\u001b[0m",
      "\u001b[0;31mTypeError\u001b[0m                                 Traceback (most recent call last)",
      "\u001b[0;32m<ipython-input-24-979348993f7c>\u001b[0m in \u001b[0;36m<module>\u001b[0;34m\u001b[0m\n\u001b[1;32m      2\u001b[0m \u001b[0;34m\u001b[0m\u001b[0m\n\u001b[1;32m      3\u001b[0m \u001b[0;31m# Load data into 'flattened' NumPy arrays\u001b[0m\u001b[0;34m\u001b[0m\u001b[0;34m\u001b[0m\u001b[0;34m\u001b[0m\u001b[0m\n\u001b[0;32m----> 4\u001b[0;31m \u001b[0mtrain_data_np\u001b[0m\u001b[0;34m,\u001b[0m \u001b[0mtrain_labels\u001b[0m\u001b[0;34m,\u001b[0m \u001b[0mvalid_data_np\u001b[0m\u001b[0;34m,\u001b[0m \u001b[0mvalid_labels\u001b[0m \u001b[0;34m=\u001b[0m \u001b[0mload_data_np\u001b[0m\u001b[0;34m(\u001b[0m\u001b[0mbatches\u001b[0m\u001b[0;34m=\u001b[0m\u001b[0mbatch_limit\u001b[0m\u001b[0;34m)\u001b[0m\u001b[0;34m\u001b[0m\u001b[0;34m\u001b[0m\u001b[0m\n\u001b[0m\u001b[1;32m      5\u001b[0m \u001b[0;34m\u001b[0m\u001b[0m\n\u001b[1;32m      6\u001b[0m \u001b[0mbatch_size\u001b[0m \u001b[0;34m=\u001b[0m \u001b[0;36m32\u001b[0m\u001b[0;34m\u001b[0m\u001b[0;34m\u001b[0m\u001b[0m\n",
      "\u001b[0;31mTypeError\u001b[0m: cannot unpack non-iterable NoneType object"
     ]
    }
   ],
   "source": [
    "batch_limit = 20\n",
    "\n",
    "# Load data into 'flattened' NumPy arrays\n",
    "train_data_np, train_labels, valid_data_np, valid_labels = load_data_np(batches=batch_limit)\n",
    "\n",
    "batch_size = 32\n",
    "num_features = 64*64*3\n",
    "num_classes = 200\n",
    "max_iter = 100\n",
    "model = LinearModel(num_features, num_classes)\n",
    "optimizer = torch.optim.SGD(model.parameters(), lr=1e-2)\n",
    "criterion = torch.nn.CrossEntropyLoss()\n",
    "\n",
    "loss_list = []\n",
    "accuracy_list = []\n",
    "valid_list = []\n",
    "\n",
    "for i in range(max_iter):\n",
    "    epoch_loss = 0\n",
    "    for index, (data, label) in enumerate(train_dataset):\n",
    "        data = data.view(batch_size, -1)\n",
    "        optimizer.zero_grad()\n",
    "        y_pred = model(data)\n",
    "        loss = criterion(input=y_pred, target=label)\n",
    "        loss.backward()\n",
    "        optimizer.step()\n",
    "        epoch_loss += loss.item()\n",
    "        print(f\"Batch loss ({index+1}/{batch_limit}): {loss.item()}\", end='\\r')\n",
    "        if index >= batch_limit -1:\n",
    "            break\n",
    "    with torch.no_grad():\n",
    "        loss_list.append(epoch_loss/batch_limit)\n",
    "        y_pred = model.forward(torch.Tensor(train_data_np.reshape(-1, num_features)))\n",
    "        y_pred = torch.argmax(y_pred, dim=1).detach().numpy()\n",
    "        accuracy_list.append(accuracy_score(y_true=train_labels, y_pred=y_pred)*100)\n",
    "        y_pred_val = model.forward(torch.Tensor(valid_data_np.reshape(-1, num_features)))\n",
    "        y_pred_val = torch.argmax(y_pred_val, dim=1).detach().numpy()\n",
    "        valid_list.append(accuracy_score(y_true=valid_labels, y_pred=y_pred_val)*100)\n",
    "        # print(f\"Loss at epoch {i}: {loss.item():.4f}\\tAccuracy: {accuracy_list[-1]*100:.2f}%\", end='\\r')\n",
    "        live_plot(np.array(loss_list), np.array(accuracy_list), valid_list) "
   ]
  },
  {
   "cell_type": "markdown",
   "metadata": {},
   "source": [
    "## Linear Model In PyTorch - 10x Training Data"
   ]
  },
  {
   "cell_type": "code",
   "execution_count": null,
   "metadata": {},
   "outputs": [],
   "source": [
    "batch_limit = 200\n",
    "\n",
    "# Load data into 'flattened' NumPy arrays\n",
    "train_data_np, train_labels, valid_data_np, valid_labels = load_data_np(batches=batch_limit)\n",
    "\n",
    "batch_size = 32\n",
    "num_features = 64*64*3\n",
    "num_classes = 200\n",
    "max_iter = 100\n",
    "model = LinearModel(num_features, num_classes)\n",
    "optimizer = torch.optim.SGD(model.parameters(), lr=1e-2)\n",
    "criterion = torch.nn.CrossEntropyLoss()\n",
    "\n",
    "loss_list = []\n",
    "accuracy_list = []\n",
    "valid_list = []\n",
    "\n",
    "for i in range(max_iter):\n",
    "    epoch_loss = 0\n",
    "    for index, (data, label) in enumerate(train_dataset):\n",
    "        data = data.view(batch_size, -1)\n",
    "        optimizer.zero_grad()\n",
    "        y_pred = model(data)\n",
    "        loss = criterion(input=y_pred, target=label)\n",
    "        loss.backward()\n",
    "        optimizer.step()\n",
    "        epoch_loss += loss.item()\n",
    "        print(f\"Batch loss ({index+1}/{batch_limit}): {loss.item()}\", end='\\r')\n",
    "        if index >= batch_limit -1:\n",
    "            break\n",
    "    with torch.no_grad():\n",
    "        loss_list.append(epoch_loss/batch_limit)\n",
    "        y_pred = model.forward(torch.Tensor(train_data_np.reshape(-1, num_features)))\n",
    "        y_pred = torch.argmax(y_pred, dim=1).detach().numpy()\n",
    "        accuracy_list.append(accuracy_score(y_true=train_labels, y_pred=y_pred)*100)\n",
    "        y_pred_val = model.forward(torch.Tensor(valid_data_np.reshape(-1, num_features)))\n",
    "        y_pred_val = torch.argmax(y_pred_val, dim=1).detach().numpy()\n",
    "        valid_list.append(accuracy_score(y_true=valid_labels, y_pred=y_pred_val)*100)\n",
    "        # print(f\"Loss at epoch {i}: {loss.item():.4f}\\tAccuracy: {accuracy_list[-1]*100:.2f}%\", end='\\r')\n",
    "        live_plot(np.array(loss_list), np.array(accuracy_list), valid_list) "
   ]
  },
  {
   "cell_type": "markdown",
   "metadata": {},
   "source": [
    "## Nonlinear Neural Network With One Hidden Layer"
   ]
  },
  {
   "cell_type": "code",
   "execution_count": null,
   "metadata": {},
   "outputs": [],
   "source": [
    "train_data_np, train_labels, valid_data_np, valid_labels = load_data_np(batches=200)\n",
    "print(f\"Training Data Shape: {train_data_np.shape}\")\n",
    "print(f\"Training Labels Shape: {train_labels.shape}\")\n",
    "print(f\"Validation Data Shape: {valid_data_np.shape}\")\n",
    "print(f\"Validation Labels Shape: {valid_labels.shape}\")"
   ]
  },
  {
   "cell_type": "code",
   "execution_count": null,
   "metadata": {},
   "outputs": [],
   "source": [
    "class NonLinearModel(torch.nn.Module):\n",
    "    \n",
    "    def __init__(self, input_size, num_classes):\n",
    "        \n",
    "        super().__init__()\n",
    "        \n",
    "        # Neural Network Architecture\n",
    "        self.dense1 = torch.nn.Linear(in_features=num_features, out_features=400)\n",
    "        self.activation1 = torch.nn.LogSigmoid()\n",
    "        self.dense2 = torch.nn.Linear(in_features=400, out_features=num_classes)\n",
    "        self.activation2 = torch.nn.LogSigmoid()\n",
    "        \n",
    "    def forward(self, X):\n",
    "        X = self.dense1(X)\n",
    "        X = self.activation1(X)\n",
    "        X = self.dense2(X)\n",
    "        X = self.activation2(X)\n",
    "        return X"
   ]
  },
  {
   "cell_type": "code",
   "execution_count": null,
   "metadata": {},
   "outputs": [],
   "source": [
    "batch_limit = 200\n",
    "batch_size = 32\n",
    "num_features = 64*64*3\n",
    "num_classes = 200\n",
    "max_iter = 100\n",
    "model = NonLinearModel(num_features, num_classes)\n",
    "optimizer = torch.optim.SGD(model.parameters(), lr=1e-2)\n",
    "criterion = torch.nn.CrossEntropyLoss()\n",
    "\n",
    "loss_list = []\n",
    "accuracy_list = []\n",
    "valid_list = []\n",
    "\n",
    "for i in range(max_iter):\n",
    "    epoch_loss = 0\n",
    "    for index, (data, label) in enumerate(train_dataset):\n",
    "        data = data.view(batch_size, -1)\n",
    "        optimizer.zero_grad()\n",
    "        y_pred = model(data)\n",
    "        loss = criterion(input=y_pred, target=label)\n",
    "        loss.backward()\n",
    "        optimizer.step()\n",
    "        epoch_loss += loss.item()\n",
    "        print(f\"Batch loss ({index+1}/{batch_limit}): {loss.item()}\", end='\\r')\n",
    "        if index >= batch_limit -1:\n",
    "            break\n",
    "    with torch.no_grad():\n",
    "        loss_list.append(epoch_loss/batch_limit)\n",
    "        y_pred = model.forward(torch.Tensor(train_data_np.reshape(-1, num_features)))\n",
    "        y_pred = torch.argmax(y_pred, dim=1).detach().numpy()\n",
    "        accuracy_list.append(accuracy_score(y_true=train_labels, y_pred=y_pred)*100)\n",
    "        y_pred_val = model.forward(torch.Tensor(valid_data_np.reshape(-1, num_features)))\n",
    "        y_pred_val = torch.argmax(y_pred_val, dim=1).detach().numpy()\n",
    "        valid_list.append(accuracy_score(y_true=valid_labels, y_pred=y_pred_val)*100)\n",
    "        # print(f\"Loss at epoch {i}: {loss.item():.4f}\\tAccuracy: {accuracy_list[-1]*100:.2f}%\", end='\\r')\n",
    "        live_plot(np.array(loss_list), np.array(accuracy_list), valid_list) \n"
   ]
  },
  {
   "cell_type": "markdown",
   "metadata": {},
   "source": [
    "## Convolutional Neural Network in PyTorch"
   ]
  },
  {
   "cell_type": "code",
   "execution_count": 19,
   "metadata": {},
   "outputs": [],
   "source": [
    "class ConvNet(torch.nn.Module):\n",
    "     \n",
    "    def __init__(self, h, w, outputs):\n",
    "        super(ConvNet, self).__init__()\n",
    "        self.conv1 = torch.nn.Conv2d(3, 16, kernel_size=5, stride=2)\n",
    "        self.bn1 = torch.nn.BatchNorm2d(16)\n",
    "        self.conv2 = torch.nn.Conv2d(16, 32, kernel_size=5, stride=2)\n",
    "        self.bn2 = torch.nn.BatchNorm2d(32)\n",
    "        self.conv3 = torch.nn.Conv2d(32, 32, kernel_size=5, stride=2)\n",
    "        self.bn3 = torch.nn.BatchNorm2d(32)\n",
    "\n",
    "        # Number of Linear input connections depends on output of conv2d layers\n",
    "        # and therefore the input image size, so compute it.\n",
    "        def conv2d_size_out(size, kernel_size = 5, stride = 2):\n",
    "            return (size - (kernel_size - 1) - 1) // stride  + 1\n",
    "        convw = conv2d_size_out(conv2d_size_out(conv2d_size_out(w)))\n",
    "        convh = conv2d_size_out(conv2d_size_out(conv2d_size_out(h)))\n",
    "        linear_input_size = convw * convh * 32\n",
    "        self.head = torch.nn.Linear(linear_input_size, outputs)\n",
    "\n",
    "    # Called with either one element to determine next action, or a batch\n",
    "    # during optimization. Returns tensor([[left0exp,right0exp]...]).\n",
    "    def forward(self, x):\n",
    "        x = torch.nn.functional.relu(self.bn1(self.conv1(x)))\n",
    "        x = torch.nn.functional.relu(self.bn2(self.conv2(x)))\n",
    "        x = torch.nn.functional.relu(self.bn3(self.conv3(x)))\n",
    "        return self.head(x.view(x.size(0), -1))\n"
   ]
  },
  {
   "cell_type": "code",
   "execution_count": null,
   "metadata": {},
   "outputs": [
    {
     "data": {
      "image/png": "[encoded data removed]",
      "text/plain": [
       "<Figure size 504x360 with 2 Axes>"
      ]
     },
     "metadata": {
      "needs_background": "light"
     },
     "output_type": "display_data"
    },
    {
     "name": "stdout",
     "output_type": "stream",
     "text": [
      "Batch loss (24/200): 3.6076362133026123\r"
     ]
    }
   ],
   "source": [
    "batch_limit = 200\n",
    "num_features = train_data_np[0].shape\n",
    "num_classes = 200\n",
    "max_iter = 100\n",
    "model = ConvNet(64, 64, num_classes)\n",
    "optimizer = torch.optim.SGD(model.parameters(), lr=1e-2)\n",
    "criterion = torch.nn.CrossEntropyLoss()\n",
    "\n",
    "loss_list = []\n",
    "accuracy_list = []\n",
    "valid_list = []\n",
    "\n",
    "for i in range(max_iter):\n",
    "    epoch_loss = 0\n",
    "    for index, (data, label) in enumerate(train_dataset):\n",
    "        optimizer.zero_grad()\n",
    "        y_pred = model(data)\n",
    "        loss = criterion(input=y_pred, target=label)\n",
    "        loss.backward()\n",
    "        optimizer.step()\n",
    "        epoch_loss += loss.item()\n",
    "        print(f\"Batch loss ({index+1}/{batch_limit}): {loss.item()}\", end='\\r')\n",
    "        if index >= batch_limit -1:\n",
    "            break\n",
    "    with torch.no_grad():\n",
    "        loss_list.append(epoch_loss/batch_limit)\n",
    "        y_pred = model.forward(torch.Tensor(train_data_np.reshape(-1, 3, 64, 64)))\n",
    "        y_pred = torch.argmax(y_pred, dim=1).detach().numpy()\n",
    "        accuracy_list.append(accuracy_score(y_true=train_labels, y_pred=y_pred)*100)\n",
    "        y_pred_val = model.forward(torch.Tensor(valid_data_np.reshape(-1, 3, 64, 64)))\n",
    "        y_pred_val = torch.argmax(y_pred_val, dim=1).detach().numpy()\n",
    "        valid_list.append(accuracy_score(y_true=valid_labels, y_pred=y_pred_val)*100)\n",
    "        # print(f\"Loss at epoch {i}: {loss.item():.4f}\\tAccuracy: {accuracy_list[-1]*100:.2f}%\", end='\\r')\n",
    "        live_plot(np.array(loss_list), np.array(accuracy_list), valid_list) \n"
   ]
  },
  {
   "cell_type": "markdown",
   "metadata": {},
   "source": [
    "## Assignment\n",
    "\n",
    "Think about a modification to one of the above models you would like to make. You could decide to change the data preparation or splitting, the model architecture, loss function, learning algorithm, or any associated paramter. Implement an experiment that enables you to evaluate the impact of your modification. Make sure that your experiment is only studying the effects of one change. For example, you could compare the learning progress of a neural network model with one hidden layer vs. two hidden layers. In this case, you should make sure to use exactly the same training and validation datasets, the same loss function, and the same learning algorithm.\n",
    "\n",
    "For each experimental condition, you can use the provided code to generate a learning progress plot, but feel free to explore other tools for evaluation, such as a [confusion matrix](https://scikit-learn.org/stable/auto_examples/model_selection/plot_confusion_matrix.html#sphx-glr-auto-examples-model-selection-plot-confusion-matrix-py). This would be especially helpful to understand in what way your model is making classification errors.\n",
    "\n",
    "**For submission**, describe both the model you are starting (control) with and the modification you are evaluating (experimental). What effect do you think your modification will have on training? On overall model performance? Next give a short description of what data you will use in your experiments (e.g. how many images, their format, and how many classes). Then, give a summary of results, clearly indicating the experimental condition to which they belong (i.e. control or experimental).\n",
    "\n",
    "Comment on your results. Did your modification improve your image classifier? What evidence do you have to support this? Based on your observations or any other sources, what additional changes do you think could further improve your model? Do you think the training data you used contained sufficient training examples for your model to generalize well? Justify your claim.\n",
    "\n",
    "Format your sumbission as a single Jupyter Notebook or PDF file. Use OWL to submit your assignment. Keep your submission brief: a single page (or equivalent) submission should be adequate.\n",
    "\n",
    "### Notes\n",
    "\n",
    "* Depending on your computer's hardware, you may need to scale back your experiments. You can try reducing the number of training iterations, the size of your training set, or the size of your model architecture. Just focus on creating a controlled experiment. \n",
    "* Along these lines, don't run experiments that will take too long to run. Test your experiments on a small number of training iterations (5 or so) to get a sense of how long each iteration takes. Even with relatively small training sets, it could take a few hours for model training to finish."
   ]
  },
  {
   "cell_type": "code",
   "execution_count": null,
   "metadata": {},
   "outputs": [],
   "source": []
  }
 ],
 "metadata": {
  "kernelspec": {
   "display_name": "Python 3",
   "language": "python",
   "name": "python3"
  },
  "language_info": {
   "codemirror_mode": {
    "name": "ipython",
    "version": 3
   },
   "file_extension": ".py",
   "mimetype": "text/x-python",
   "name": "python",
   "nbconvert_exporter": "python",
   "pygments_lexer": "ipython3",
   "version": "3.7.3"
  }
 },
 "nbformat": 4,
 "nbformat_minor": 4
}
